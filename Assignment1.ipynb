{
  "nbformat": 4,
  "nbformat_minor": 0,
  "metadata": {
    "colab": {
      "provenance": [],
      "authorship_tag": "ABX9TyOm255Wm9ATfGu4J7QcaFaj",
      "include_colab_link": true
    },
    "kernelspec": {
      "name": "python3",
      "display_name": "Python 3"
    },
    "language_info": {
      "name": "python"
    }
  },
  "cells": [
    {
      "cell_type": "markdown",
      "metadata": {
        "id": "view-in-github",
        "colab_type": "text"
      },
      "source": [
        "<a href=\"https://colab.research.google.com/github/singammanasvi9440/Assignment1/blob/main/Assignment1.ipynb\" target=\"_parent\"><img src=\"https://colab.research.google.com/assets/colab-badge.svg\" alt=\"Open In Colab\"/></a>"
      ]
    },
    {
      "cell_type": "code",
      "execution_count": 22,
      "metadata": {
        "id": "0fqqcP6ISVjg",
        "colab": {
          "base_uri": "https://localhost:8080/"
        },
        "outputId": "d2842c2b-1583-4765-baf3-09fa2e78de14"
      },
      "outputs": [
        {
          "output_type": "stream",
          "name": "stdout",
          "text": [
            "Sorted list: [19, 19, 20, 22, 24, 24, 24, 25, 25, 26]\n",
            "Min age = 19 Max age = 26\n",
            "After appending the elements:  [19, 19, 20, 22, 24, 24, 24, 25, 25, 26, 19, 26]\n",
            "Median age : 24\n",
            "Average age: 22.75\n",
            "Range : 7\n"
          ]
        }
      ],
      "source": [
        "#1\n",
        "ages = [19, 22, 19, 24, 20, 25, 26, 24, 25, 24]\n",
        "sorted_ages = sorted(ages)\n",
        "\n",
        "#1a sort and store into a new list and displaying min and max age\n",
        "print(\"Sorted list:\",sorted_ages)\n",
        "print(\"Min age =\",sorted_ages[0],\"Max age =\",sorted_ages[-1])\n",
        "min = sorted_ages[0]\n",
        "max = sorted_ages[-1]\n",
        "\n",
        "#1b adding min and max to the list\n",
        "sorted_ages.append(min)\n",
        "sorted_ages.append(max)\n",
        "print(\"After appending the elements: \",sorted_ages)\n",
        "\n",
        "#1c median age\n",
        "length = len(sorted_ages)\n",
        "if length % 2 == 0 :\n",
        "    median_1 = sorted_ages[length//2]\n",
        "    median_2 = sorted_ages[length//2 - 1]\n",
        "    median = (median_1+median_2)//2\n",
        "    print(\"Median age :\",median)\n",
        "else :\n",
        "  median=sorted_ages[length//2]\n",
        "  print(\"Median age = \",median)\n",
        "\n",
        "#1d average age\n",
        "sum = 0\n",
        "for i in range (0,length):\n",
        "  sum = sum + sorted_ages[i]\n",
        "average = sum/length\n",
        "print(\"Average age:\",average)\n",
        "\n",
        "#1e range of the ages\n",
        "print(\"Range :\",max-min)\n"
      ]
    },
    {
      "cell_type": "code",
      "source": [
        "# Question 2\n",
        "\n",
        "dog = {} #2a empty dictionary called dog\n",
        "#2b Adding the keys name, color, breed, legs, age to the dog dictionary\n",
        "dog = {\"name\":None, \"color\":None, \"breed\":None, \"legs\":None, \"age\":None}\n",
        "#2c Create a student dictionary and add first_name, last_name, gender, age, marital status,skills, country, city and address as keys for the dictionary\n",
        "student = {\n",
        "    \"first_name\":None,\n",
        "    \"last_name\":None, \n",
        "    \"gender\":None, \n",
        "    \"age\":None,\n",
        "    \"marital status\":None,\n",
        "    \"skills\":None, \n",
        "    \"country\":None, \n",
        "    \"city\":None, \n",
        "    \"address\":None\n",
        "}\n",
        "#2d length of the student dictionary\n",
        "print(\"\\nThe length of Student dictionary is : \",len(student))\n",
        "student = {\n",
        "    \"first_name\":'Manasvi',\n",
        "    \"last_name\":'Singam', \n",
        "    \"gender\":'female', \n",
        "    \"age\":'22',\n",
        "    \"marital status\": 'Unmarried',\n",
        "    \"skills\":['Pressure handling','Critical Thinking','Thinking out of box','logical Thinking'], \n",
        "    \"country\":'United states', \n",
        "    \"city\":'Overland park', \n",
        "    \"address\":'5000w,cambridge square'\n",
        "}\n",
        "print(\"\\nType :\",type(student['skills'])) #2e value of skills and check the data type\n",
        "print(\"\\nThe skills are:\",student.get('skills')) #2f Modify the skills values by adding one or two skills\n",
        "student['skills'].append(\"Analytical writing\")\n",
        "print(\"\\nThe skills are adding an extra skill:\",student.get('skills'))\n",
        "#2g Get the dictionary keys as a list\n",
        "print(\"\\nThe keys in student dictionary :\",student.keys())\n",
        "#2h Get the dictionary values as a list\n",
        "print(\"\\nThe values in student dictionary :\",student.values())\n"
      ],
      "metadata": {
        "colab": {
          "base_uri": "https://localhost:8080/"
        },
        "id": "0xrYuHk-r_nB",
        "outputId": "fe38f0be-0e77-462a-bbb7-eb5c716d3d8d"
      },
      "execution_count": 28,
      "outputs": [
        {
          "output_type": "stream",
          "name": "stdout",
          "text": [
            "\n",
            "The length of Student dictionary is :  9\n",
            "\n",
            "Type : <class 'list'>\n",
            "\n",
            "The skills are: ['Pressure handling', 'Critical Thinking', 'Thinking out of box', 'logical Thinking']\n",
            "\n",
            "The skills are adding an extra skill: ['Pressure handling', 'Critical Thinking', 'Thinking out of box', 'logical Thinking', 'Analytical writing']\n",
            "\n",
            "The keys in student dictionary : dict_keys(['first_name', 'last_name', 'gender', 'age', 'marital status', 'skills', 'country', 'city', 'address'])\n",
            "\n",
            "The values in student dictionary : dict_values(['Manasvi', 'Singam', 'female', '22', 'Unmarried', ['Pressure handling', 'Critical Thinking', 'Thinking out of box', 'logical Thinking', 'Analytical writing'], 'United states', 'Overland park', '5000w,cambridge square'])\n"
          ]
        }
      ]
    },
    {
      "cell_type": "code",
      "source": [
        "# Question 3\n",
        "#3a\n",
        "brothers = (\"Rithyansh\", \"Ayansh\", \"Harshith\")\n",
        "sisters = (\"Yashaswi\", \"Sanju\",\"sushma\")\n",
        "#3b joining two tuples\n",
        "siblings = brothers+sisters\n",
        "print(\"\\nAfter adding brothers and sisters: \",siblings)\n",
        "#3c \n",
        "print(\"\\nThe length of siblings :\",len(siblings))\n",
        "# 3d adding up father_name and mother_name\n",
        "siblings = siblings + (\"Hanmanth Rao\",\"Sujatha\")\n",
        "# assign the updated siblings tuple to the family_members\n",
        "family_members = siblings\n",
        "print(\"\\nAfter adding father and mother name :\",family_members,\"\\n\")  "
      ],
      "metadata": {
        "colab": {
          "base_uri": "https://localhost:8080/"
        },
        "id": "neD-769M93CZ",
        "outputId": "af75e811-6e99-4162-eab5-42ab34373001"
      },
      "execution_count": 29,
      "outputs": [
        {
          "output_type": "stream",
          "name": "stdout",
          "text": [
            "\n",
            "After adding brothers and sisters:  ('Rithyansh', 'Ayansh', 'Harshith', 'Yashaswi', 'Sanju', 'sushma')\n",
            "\n",
            "The length of siblings : 6\n",
            "\n",
            "After adding father and mother name : ('Rithyansh', 'Ayansh', 'Harshith', 'Yashaswi', 'Sanju', 'sushma', 'Hanmanth Rao', 'Sujatha') \n",
            "\n"
          ]
        }
      ]
    },
    {
      "cell_type": "code",
      "source": [
        "#4\n",
        "\n",
        "it_companies = {'Facebook', 'Google', 'Microsoft', 'Apple', 'IBM', 'Oracle', 'Amazon'}\n",
        "A = {19, 22, 24, 20, 25, 26}\n",
        "B = {19, 22, 20, 25, 26, 24, 28, 27}\n",
        "age = [22, 19, 24, 25, 26, 24, 25, 24]\n",
        "\n",
        "#4a length of the set it_companies\n",
        "print(\"length :\",len(it_companies))\n",
        "print(\"\\n it_companies:\", it_companies)\n",
        "\n",
        "#4b Add 'Twitter' to it_companies\n",
        "it_companies.add('Twitter')\n",
        "print(\"\\nAter adding a company, it_companies:\",it_companies)\n",
        "\n",
        "#4c Insert multiple IT companies at once to the set it_companies\n",
        "new_companies = ['mindtree','accenture','sigma','NCR']\n",
        "it_companies.update(new_companies)\n",
        "print(\"\\nAter adding multiple companies, it_companies:\",it_companies)\n",
        "\n",
        "\n",
        "#4d Remove one of the companies from the set it_companies\n",
        "it_companies.remove('Apple')\n",
        "print(\"\\nAter deleting a company(i.e., Apple) it_companies: \",it_companies)\n",
        "\n",
        "#4e What is the difference between remove and discard\n",
        "print(\"The difference between remove and discard is if we want to delete an element in the set that is not present in the set by using remove it gives an error whereas discard doesn't show any error\")\n",
        "print(\"\\ndicard usage\",it_companies.discard('Tekaroon'))\n",
        "\n",
        "#4f Join A and B\n",
        "c=B.union(A)\n",
        "print(\"\\nAfter joining A and B, the resultant set:\",c)\n",
        "#4g Find A intersection B\n",
        "print(\"\\nIntersection set :\",A.intersection(B))\n",
        "\n",
        "#4h Is A subset of B\n",
        "print(\"\\nA is subset of B (True/False) :\",A.issubset(B))\n",
        "\n",
        "#4i Are A and B disjoint sets\n",
        "print(\"\\nAre A and B disjoint sets (True/False) :\",A.isdisjoint(B))\n",
        "\n",
        "#4j Join A with B and B with A\n",
        "     # joining A with B\n",
        "print(\"\\nJoining A with B:\",A.union(B))\n",
        "print(\"Joining B with A:\",B.union(A))\n",
        "\n",
        "#4k What is the symmetric difference between A and B\n",
        "print(\"\\nThe symmentric difference is : \",A.symmetric_difference(B))\n",
        "\n",
        "#4l Delete the sets completely\n",
        "del A\n",
        "del B\n",
        "\n",
        "\n",
        "#13 Convert the ages to a set and compare the length of the list and the set\n",
        "Set = set(age)\n",
        "print(\"\\nConverted to set\",Set)\n",
        "print(\"\\nThe length of list is :\",len(age),\"and set is :\",len(Set))\n"
      ],
      "metadata": {
        "colab": {
          "base_uri": "https://localhost:8080/"
        },
        "id": "DGFl1xydJ-ns",
        "outputId": "13379b7c-9a4b-4606-b26b-12753cdd15c0"
      },
      "execution_count": 46,
      "outputs": [
        {
          "output_type": "stream",
          "name": "stdout",
          "text": [
            "length : 7\n",
            "\n",
            " it_companies: {'Google', 'Amazon', 'IBM', 'Apple', 'Oracle', 'Facebook', 'Microsoft'}\n",
            "\n",
            "Ater adding a company, it_companies: {'Google', 'Amazon', 'IBM', 'Apple', 'Oracle', 'Twitter', 'Facebook', 'Microsoft'}\n",
            "\n",
            "Ater adding multiple companies, it_companies: {'Google', 'Amazon', 'IBM', 'sigma', 'Apple', 'Oracle', 'NCR', 'Twitter', 'mindtree', 'Facebook', 'accenture', 'Microsoft'}\n",
            "\n",
            "Ater deleting a company(i.e., Apple) it_companies:  {'Google', 'Amazon', 'IBM', 'sigma', 'Oracle', 'NCR', 'Twitter', 'mindtree', 'Facebook', 'accenture', 'Microsoft'}\n",
            "The difference between remove and discard is if we want to delete an element in the set that is not present in the set by using remove it gives an error whereas discard doesn't show any error\n",
            "\n",
            "dicard usage None\n",
            "\n",
            "After joining A and B, the resultant set: {19, 20, 22, 24, 25, 26, 27, 28}\n",
            "\n",
            "Intersection set : {19, 20, 22, 24, 25, 26}\n",
            "\n",
            "A is subset of B (True/False) : True\n",
            "\n",
            "Are A and B disjoint sets (True/False) : False\n",
            "\n",
            "Joining A with B: {19, 20, 22, 24, 25, 26, 27, 28}\n",
            "Joining B with A: {19, 20, 22, 24, 25, 26, 27, 28}\n",
            "\n",
            "The symmentric difference is :  {27, 28}\n",
            "\n",
            "Converted to set {19, 22, 24, 25, 26}\n",
            "\n",
            "The length of list is : 8 and set is : 5\n"
          ]
        }
      ]
    },
    {
      "cell_type": "code",
      "source": [
        "# Question 5\n",
        "\n",
        "import math\n",
        "\n",
        "constant = math.pi\n",
        "r = 10\n",
        "\n",
        "#Area of a circle Finding\n",
        "_area_of_circle_ = constant * r * r\n",
        "print(\"Area :\",_area_of_circle_)\n",
        "\n",
        "#Circumference Finding\n",
        "_circum_of_circle_= 2 * constant * r\n",
        "print(\"Circumference :\",_circum_of_circle_)\n",
        "\n",
        "#taking input (dynamically)\n",
        "new_radius = float(input(\"Enter the radius value: \"))\n",
        "Area = constant * new_radius * new_radius\n",
        "\n",
        "print(\"for given radius = \",new_radius,\"\\nArea :\",Area)"
      ],
      "metadata": {
        "colab": {
          "base_uri": "https://localhost:8080/"
        },
        "id": "j98bc6mMVT4C",
        "outputId": "fcf21872-3009-4252-b1e0-4e029157fd3b"
      },
      "execution_count": 48,
      "outputs": [
        {
          "output_type": "stream",
          "name": "stdout",
          "text": [
            "Area : 314.1592653589793\n",
            "Circumference : 62.83185307179586\n",
            "Enter the radius value: 1\n",
            "for given radius =  1.0 \n",
            "Area : 3.141592653589793\n"
          ]
        }
      ]
    },
    {
      "cell_type": "code",
      "source": [
        "#6\n",
        "\n",
        "sentence = \"I am a teacher and I love to inspire and teach people\"\n",
        "\n",
        "#splitting the string for getting the individual elements\n",
        "Split = sentence.split(\" \")\n",
        "sp_set = set(Split)\n",
        "print(\"Set: \",sp_set)\n",
        "print(\"Number of unique words: \",len(sp_set))\n",
        "                          \n"
      ],
      "metadata": {
        "colab": {
          "base_uri": "https://localhost:8080/"
        },
        "id": "Vt3zk_QAVpSs",
        "outputId": "a8a1337c-9417-4616-c5be-6f7142246957"
      },
      "execution_count": 49,
      "outputs": [
        {
          "output_type": "stream",
          "name": "stdout",
          "text": [
            "Set:  {'am', 'people', 'love', 'teacher', 'I', 'teach', 'to', 'inspire', 'a', 'and'}\n",
            "Number of unique words:  10\n"
          ]
        }
      ]
    },
    {
      "cell_type": "code",
      "source": [
        "#7\n",
        "\n",
        "print(\"Name\\tAge\\tCountry\\tCity\\nAsabeneh\\t250\\tFinland\\tHelsinki\")"
      ],
      "metadata": {
        "colab": {
          "base_uri": "https://localhost:8080/"
        },
        "id": "JhQgF4bTZg7y",
        "outputId": "8d5ac628-619c-45f5-aa2f-6563a6c93a89"
      },
      "execution_count": 50,
      "outputs": [
        {
          "output_type": "stream",
          "name": "stdout",
          "text": [
            "Name\tAge\tCountry\tCity\n",
            "Asabeneh\t250\tFinland\tHelsinki\n"
          ]
        }
      ]
    },
    {
      "cell_type": "code",
      "source": [
        "#8\n",
        "\n",
        "radius = 5\n",
        "area = int(3.14 * radius ** 2)\n",
        "#string formating\n",
        "formatted_area = 'The area of circle with radius {} is {} meters square.'.format(radius, area)  \n",
        "print(formatted_area)   "
      ],
      "metadata": {
        "colab": {
          "base_uri": "https://localhost:8080/"
        },
        "id": "f2n4h1XxZswV",
        "outputId": "53f61996-5cf3-47a6-9fd1-8286a08f423a"
      },
      "execution_count": 54,
      "outputs": [
        {
          "output_type": "stream",
          "name": "stdout",
          "text": [
            "The area of circle with radius 5 is 78 meters square.\n"
          ]
        }
      ]
    },
    {
      "cell_type": "code",
      "source": [
        "# Question 9\n",
        "\n",
        "# Dynamically taking the input\n",
        "n = int(input('Enter the length:'))\n",
        "\n",
        "# creating two lists one for lbs and other for kgs\n",
        "list = []\n",
        "con_list =[]\n",
        "for i in range (0,n) :\n",
        "    p =  float(input('Enter the value:'))\n",
        "    list.append(p)\n",
        "\n",
        "for i in range (0,n):\n",
        "      q = list[i] * 0.453592\n",
        "      con_list.append(round(q,2))\n",
        "print(\"\\nConerted to kgs: \",con_list)"
      ],
      "metadata": {
        "colab": {
          "base_uri": "https://localhost:8080/"
        },
        "id": "y7pBtWjsZ5p9",
        "outputId": "709cb496-294e-4b5c-987d-3a3843c3a649"
      },
      "execution_count": 57,
      "outputs": [
        {
          "output_type": "stream",
          "name": "stdout",
          "text": [
            "Enter the length:4\n",
            "Enter the value:5\n",
            "Enter the value:67\n",
            "Enter the value:78\n",
            "Enter the value:87\n",
            "\n",
            "Conerted to kgs:  [2.27, 30.39, 35.38, 39.46]\n"
          ]
        }
      ]
    },
    {
      "cell_type": "code",
      "source": [],
      "metadata": {
        "id": "XrlXMgqhaSTq"
      },
      "execution_count": null,
      "outputs": []
    }
  ]
}